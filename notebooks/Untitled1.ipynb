{
 "cells": [
  {
   "cell_type": "code",
   "execution_count": 1,
   "id": "71037b53-159f-4c85-a67b-563942b9c5db",
   "metadata": {},
   "outputs": [],
   "source": [
    "strings = [\n",
    "    \"LimeBike\",\n",
    "    \"Finalprice.club\",\n",
    "    \"Grammarly Coqvuzrki\",\n",
    "    \"Rapidapi\",\n",
    "    \"Rapidapi\",\n",
    "    \"Gyrosco Pe App\",\n",
    "    \"Stewardware 1888 600 7\",\n",
    "    \"Trial Over\",\n",
    "    \"Rapidapi\",\n",
    "    \"Notion-automations.com\",\n",
    "    \"Semrush.com\",\n",
    "    \"Semrush.com\",\n",
    "    \"Vimeo\",\n",
    "    \"Jasper.ai (ex. Jarvis)\",\n",
    "    \"Jasper.ai (ex. Jarvis)\",\n",
    "    \"Blaze Today\",\n",
    "    \"Blaze Today\",\n",
    "    \"Artemisa 3000\",\n",
    "    \"Kucoin\",\n",
    "    \"Buymeacoffee.com\",\n",
    "    \"Pluralsight\"\n",
    "]"
   ]
  },
  {
   "cell_type": "code",
   "execution_count": 2,
   "id": "0446e19c-9390-4348-8ecc-9d492815a50b",
   "metadata": {},
   "outputs": [],
   "source": [
    "my_set = set(strings)"
   ]
  },
  {
   "cell_type": "code",
   "execution_count": 3,
   "id": "8d219ea9-6a93-468b-bc0e-8ecdac17f820",
   "metadata": {},
   "outputs": [
    {
     "data": {
      "text/plain": [
       "{'Artemisa 3000',\n",
       " 'Blaze Today',\n",
       " 'Buymeacoffee.com',\n",
       " 'Finalprice.club',\n",
       " 'Grammarly Coqvuzrki',\n",
       " 'Gyrosco Pe App',\n",
       " 'Jasper.ai (ex. Jarvis)',\n",
       " 'Kucoin',\n",
       " 'LimeBike',\n",
       " 'Notion-automations.com',\n",
       " 'Pluralsight',\n",
       " 'Rapidapi',\n",
       " 'Semrush.com',\n",
       " 'Stewardware 1888 600 7',\n",
       " 'Trial Over',\n",
       " 'Vimeo'}"
      ]
     },
     "execution_count": 3,
     "metadata": {},
     "output_type": "execute_result"
    }
   ],
   "source": [
    "my_set"
   ]
  },
  {
   "cell_type": "code",
   "execution_count": null,
   "id": "89b405ee-cafc-4ab7-a957-3b48fd8010b2",
   "metadata": {},
   "outputs": [],
   "source": []
  },
  {
   "cell_type": "code",
   "execution_count": null,
   "id": "8eba5ef1-2c09-4a3a-91e8-33a6a12d663f",
   "metadata": {},
   "outputs": [],
   "source": []
  },
  {
   "cell_type": "code",
   "execution_count": null,
   "id": "4826338c-1fb9-4661-96ed-8e5c44eaf2fa",
   "metadata": {},
   "outputs": [],
   "source": []
  },
  {
   "cell_type": "code",
   "execution_count": null,
   "id": "07fc8f39-4ed8-42e2-80b9-7e5b3c8de06c",
   "metadata": {},
   "outputs": [],
   "source": []
  },
  {
   "cell_type": "code",
   "execution_count": null,
   "id": "bf8f5ac6-5df3-47e6-b7db-419d76350a3c",
   "metadata": {},
   "outputs": [],
   "source": []
  },
  {
   "cell_type": "code",
   "execution_count": null,
   "id": "c0e1049e-e930-4078-8689-63aba7885549",
   "metadata": {},
   "outputs": [],
   "source": []
  },
  {
   "cell_type": "code",
   "execution_count": null,
   "id": "1e4e81ad-fd8a-4451-a5f8-494d113e3ba1",
   "metadata": {},
   "outputs": [],
   "source": []
  }
 ],
 "metadata": {
  "kernelspec": {
   "display_name": "Python 3 (ipykernel)",
   "language": "python",
   "name": "python3"
  },
  "language_info": {
   "codemirror_mode": {
    "name": "ipython",
    "version": 3
   },
   "file_extension": ".py",
   "mimetype": "text/x-python",
   "name": "python",
   "nbconvert_exporter": "python",
   "pygments_lexer": "ipython3",
   "version": "3.10.6"
  }
 },
 "nbformat": 4,
 "nbformat_minor": 5
}
